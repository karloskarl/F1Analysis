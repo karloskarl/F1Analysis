{
 "cells": [
  {
   "cell_type": "markdown",
   "id": "72442381",
   "metadata": {},
   "source": [
    "# Project question 1 - Which car produced the biggest upset in Formula One?\n",
    "\n",
    "# 1. Importing required tools and datasets"
   ]
  },
  {
   "cell_type": "code",
   "execution_count": null,
   "id": "9bb3e5ae",
   "metadata": {},
   "outputs": [],
   "source": [
    "import pandas as pd\n"
   ]
  }
 ],
 "metadata": {
  "kernelspec": {
   "display_name": "Python 3 (ipykernel)",
   "language": "python",
   "name": "python3"
  },
  "language_info": {
   "codemirror_mode": {
    "name": "ipython",
    "version": 3
   },
   "file_extension": ".py",
   "mimetype": "text/x-python",
   "name": "python",
   "nbconvert_exporter": "python",
   "pygments_lexer": "ipython3",
   "version": "3.11.4"
  }
 },
 "nbformat": 4,
 "nbformat_minor": 5
}
